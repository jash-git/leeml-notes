{
 "cells": [
  {
   "cell_type": "code",
   "execution_count": 24,
   "metadata": {
    "ExecuteTime": {
     "end_time": "2019-07-18T17:15:09.867509Z",
     "start_time": "2019-07-18T17:15:09.863509Z"
    }
   },
   "outputs": [],
   "source": [
    "import pandas as pd"
   ]
  },
  {
   "cell_type": "code",
   "execution_count": 25,
   "metadata": {
    "ExecuteTime": {
     "end_time": "2019-07-18T17:15:10.534547Z",
     "start_time": "2019-07-18T17:15:10.348536Z"
    }
   },
   "outputs": [],
   "source": [
    "train_list=[]\n",
    "with open('./data/adult.data','r') as f:\n",
    "    lines=f.readlines()\n",
    "    for line in lines:\n",
    "        #line=line.strip().split(',')\n",
    "        line=line.strip().replace(\" \",\"\")\n",
    "        train_list.append(line.split(','))\n",
    "test_list=[]\n",
    "with open('./data/adult.test','r')as f:\n",
    "    lines=f.readlines()\n",
    "    for line in lines:\n",
    "        line=line.strip().replace(\" \",\"\")\n",
    "        test_list.append(line.split(','))"
   ]
  },
  {
   "cell_type": "code",
   "execution_count": 26,
   "metadata": {
    "ExecuteTime": {
     "end_time": "2019-07-18T17:15:10.742559Z",
     "start_time": "2019-07-18T17:15:10.734559Z"
    }
   },
   "outputs": [],
   "source": [
    "col=['age',\n",
    "'workclass',\n",
    "'fnlwgt',\n",
    "'education',\n",
    "'education-num',\n",
    "'marital-status',\n",
    "'occupation',\n",
    "'relationship',\n",
    "'race',\n",
    "'sex',\n",
    "'capital-gain',\n",
    "'capital-loss',\n",
    "'hours-per-week',\n",
    "'native-country','lable']"
   ]
  },
  {
   "cell_type": "code",
   "execution_count": 27,
   "metadata": {
    "ExecuteTime": {
     "end_time": "2019-07-18T17:15:11.283590Z",
     "start_time": "2019-07-18T17:15:11.166583Z"
    }
   },
   "outputs": [],
   "source": [
    "train_df=pd.DataFrame(train_list,columns=col)"
   ]
  },
  {
   "cell_type": "code",
   "execution_count": 28,
   "metadata": {
    "ExecuteTime": {
     "end_time": "2019-07-18T17:15:12.315649Z",
     "start_time": "2019-07-18T17:15:12.254645Z"
    }
   },
   "outputs": [],
   "source": [
    "test_df=pd.DataFrame(test_list,columns=col)"
   ]
  },
  {
   "cell_type": "code",
   "execution_count": 29,
   "metadata": {
    "ExecuteTime": {
     "end_time": "2019-07-18T17:15:13.124695Z",
     "start_time": "2019-07-18T17:15:12.802677Z"
    }
   },
   "outputs": [],
   "source": [
    "train_df.to_csv('data/train.csv',index=False)\n",
    "test_df.to_csv('data/test.csv',index=False)"
   ]
  },
  {
   "cell_type": "code",
   "execution_count": null,
   "metadata": {},
   "outputs": [],
   "source": []
  },
  {
   "cell_type": "code",
   "execution_count": null,
   "metadata": {},
   "outputs": [],
   "source": []
  }
 ],
 "metadata": {
  "kernelspec": {
   "display_name": "Python 3",
   "language": "python",
   "name": "python3"
  },
  "language_info": {
   "codemirror_mode": {
    "name": "ipython",
    "version": 3
   },
   "file_extension": ".py",
   "mimetype": "text/x-python",
   "name": "python",
   "nbconvert_exporter": "python",
   "pygments_lexer": "ipython3",
   "version": "3.6.8"
  }
 },
 "nbformat": 4,
 "nbformat_minor": 2
}
