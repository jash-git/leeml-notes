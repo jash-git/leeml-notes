{
 "cells": [
  {
   "cell_type": "code",
   "execution_count": 10,
   "metadata": {
    "ExecuteTime": {
     "end_time": "2019-07-18T17:15:18.620010Z",
     "start_time": "2019-07-18T17:15:18.153983Z"
    }
   },
   "outputs": [],
   "source": [
    "import pandas as pd\n",
    "from sklearn.linear_model import LogisticRegression\n",
    "from sklearn.preprocessing import MinMaxScaler\n",
    "min_max_scaler = MinMaxScaler()\n",
    "lr=LogisticRegression()\n",
    "\n",
    "train_data=pd.read_csv('./data/train.csv')\n",
    "test_data=pd.read_csv('./data/test.csv')\n",
    "\n",
    "data=pd.concat([train_data,test_data],axis=0)\n",
    "mp=data['native-country'].value_counts()/data.shape[0]\n",
    "data['native-country']=data['native-country'].map(mp)\n",
    "\n",
    "data[['age','fnlwgt' ,'education-num' ,'capital-gain' ,'capital-loss' ,'hours-per-week']]=min_max_scaler.fit_transform(data[['age','fnlwgt' ,'education-num' ,'capital-gain' ,'capital-loss' ,'hours-per-week']])\n",
    "\n",
    "data.loc[data['workclass']=='?','workclass']='Private'\n",
    "\n",
    "data.loc[data['occupation']=='?','occupation']='other'\n",
    "\n",
    "# data.loc[data['workclass']=='?','workclass']=\n",
    "# train_data['workclass',train_data.workclass==\"?\"]=\n",
    "# test_data['workclass'][train_data['workclass']==\"?\"]='Private'\n",
    "# train_data['occupation'][train_data['occupation']==\"?\"]='other'\n",
    "# test_data['occupation'][test_data['occupation']==\"?\"]='other'\n",
    "\n",
    "cols=['workclass', 'education','marital-status', 'occupation', 'relationship', 'race', 'sex']\n",
    "def p_data(data,col):\n",
    "    tmp=pd.get_dummies(data[col],prefix=col)\n",
    "    data=pd.concat([data,tmp],axis=1)\n",
    "    data=data.drop(col,axis=1)\n",
    "    return data\n",
    "\n",
    "\n",
    "\n",
    "for col in cols:\n",
    "    data=p_data(data,col)\n",
    "\n"
   ]
  },
  {
   "cell_type": "code",
   "execution_count": 12,
   "metadata": {
    "ExecuteTime": {
     "end_time": "2019-07-18T17:15:33.070836Z",
     "start_time": "2019-07-18T17:15:33.058835Z"
    }
   },
   "outputs": [],
   "source": [
    "lable_d={\n",
    "     '<=50K':  0,\n",
    "     '<=50K.': 0,\n",
    "     '>50K' : 1,\n",
    "     '>50K.': 1  \n",
    "}\n",
    "data.lable=data.lable.map(lable_d)"
   ]
  },
  {
   "cell_type": "code",
   "execution_count": 13,
   "metadata": {
    "ExecuteTime": {
     "end_time": "2019-07-18T17:15:34.897941Z",
     "start_time": "2019-07-18T17:15:34.887940Z"
    }
   },
   "outputs": [],
   "source": [
    "data['lable'] = data['lable'].astype(int)"
   ]
  },
  {
   "cell_type": "code",
   "execution_count": 14,
   "metadata": {
    "ExecuteTime": {
     "end_time": "2019-07-18T17:15:35.388969Z",
     "start_time": "2019-07-18T17:15:35.380968Z"
    }
   },
   "outputs": [],
   "source": [
    "train_data=data[0:train_data.shape[0]]\n",
    "test_data=data[train_data.shape[0]:]"
   ]
  },
  {
   "cell_type": "code",
   "execution_count": 15,
   "metadata": {
    "ExecuteTime": {
     "end_time": "2019-07-18T17:15:36.019005Z",
     "start_time": "2019-07-18T17:15:36.001004Z"
    }
   },
   "outputs": [],
   "source": [
    "train_lable=train_data['lable']\n",
    "test_lable=test_data['lable']\n",
    "train=train_data.drop('lable',axis=1)\n",
    "test=test_data.drop('lable',axis=1)"
   ]
  },
  {
   "cell_type": "code",
   "execution_count": 18,
   "metadata": {
    "ExecuteTime": {
     "end_time": "2019-07-18T17:16:34.249335Z",
     "start_time": "2019-07-18T17:16:33.875314Z"
    }
   },
   "outputs": [
    {
     "name": "stderr",
     "output_type": "stream",
     "text": [
      "D:\\Anaconda\\lib\\site-packages\\sklearn\\linear_model\\logistic.py:432: FutureWarning: Default solver will be changed to 'lbfgs' in 0.22. Specify a solver to silence this warning.\n",
      "  FutureWarning)\n"
     ]
    },
    {
     "data": {
      "text/plain": [
       "LogisticRegression(C=1.0, class_weight=None, dual=False, fit_intercept=True,\n",
       "                   intercept_scaling=1, l1_ratio=None, max_iter=100,\n",
       "                   multi_class='warn', n_jobs=None, penalty='l2',\n",
       "                   random_state=None, solver='warn', tol=0.0001, verbose=0,\n",
       "                   warm_start=False)"
      ]
     },
     "execution_count": 18,
     "metadata": {},
     "output_type": "execute_result"
    }
   ],
   "source": [
    "lr.fit(train,train_lable)"
   ]
  },
  {
   "cell_type": "code",
   "execution_count": 19,
   "metadata": {
    "ExecuteTime": {
     "end_time": "2019-07-18T17:16:50.592270Z",
     "start_time": "2019-07-18T17:16:50.530267Z"
    }
   },
   "outputs": [
    {
     "data": {
      "text/plain": [
       "0.8511409354749547"
      ]
     },
     "execution_count": 19,
     "metadata": {},
     "output_type": "execute_result"
    }
   ],
   "source": [
    "lr.score(train,train_lable)"
   ]
  },
  {
   "cell_type": "code",
   "execution_count": 20,
   "metadata": {
    "ExecuteTime": {
     "end_time": "2019-07-18T17:17:39.578072Z",
     "start_time": "2019-07-18T17:17:39.556071Z"
    }
   },
   "outputs": [
    {
     "data": {
      "text/plain": [
       "0.8508076899453351"
      ]
     },
     "execution_count": 20,
     "metadata": {},
     "output_type": "execute_result"
    }
   ],
   "source": [
    "lr.score(test,test_lable)"
   ]
  },
  {
   "cell_type": "code",
   "execution_count": 21,
   "metadata": {
    "ExecuteTime": {
     "end_time": "2019-07-18T17:21:23.757894Z",
     "start_time": "2019-07-18T17:20:35.683145Z"
    }
   },
   "outputs": [
    {
     "data": {
      "text/plain": [
       "SVC(C=1.0, cache_size=200, class_weight=None, coef0=0.0,\n",
       "    decision_function_shape='ovr', degree=3, gamma='auto_deprecated',\n",
       "    kernel='linear', max_iter=-1, probability=False, random_state=None,\n",
       "    shrinking=True, tol=0.001, verbose=False)"
      ]
     },
     "execution_count": 21,
     "metadata": {},
     "output_type": "execute_result"
    }
   ],
   "source": [
    "from sklearn.svm import SVC\n",
    "clf=SVC(kernel='linear')\n",
    "clf.fit(train,train_lable)"
   ]
  },
  {
   "cell_type": "code",
   "execution_count": 22,
   "metadata": {
    "ExecuteTime": {
     "end_time": "2019-07-18T17:22:17.721981Z",
     "start_time": "2019-07-18T17:21:54.313642Z"
    }
   },
   "outputs": [
    {
     "data": {
      "text/plain": [
       "0.8510795122999908"
      ]
     },
     "execution_count": 22,
     "metadata": {},
     "output_type": "execute_result"
    }
   ],
   "source": [
    "clf.score(train,train_lable)"
   ]
  },
  {
   "cell_type": "code",
   "execution_count": 23,
   "metadata": {
    "ExecuteTime": {
     "end_time": "2019-07-18T17:23:27.928996Z",
     "start_time": "2019-07-18T17:23:16.759358Z"
    }
   },
   "outputs": [
    {
     "data": {
      "text/plain": [
       "0.8528960137583687"
      ]
     },
     "execution_count": 23,
     "metadata": {},
     "output_type": "execute_result"
    }
   ],
   "source": [
    "clf.score(test,test_lable)"
   ]
  },
  {
   "cell_type": "code",
   "execution_count": null,
   "metadata": {},
   "outputs": [],
   "source": []
  }
 ],
 "metadata": {
  "kernelspec": {
   "display_name": "Python 3",
   "language": "python",
   "name": "python3"
  },
  "language_info": {
   "codemirror_mode": {
    "name": "ipython",
    "version": 3
   },
   "file_extension": ".py",
   "mimetype": "text/x-python",
   "name": "python",
   "nbconvert_exporter": "python",
   "pygments_lexer": "ipython3",
   "version": "3.6.8"
  }
 },
 "nbformat": 4,
 "nbformat_minor": 2
}
